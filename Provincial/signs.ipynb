{
 "cells": [
  {
   "cell_type": "code",
   "execution_count": 3,
   "metadata": {},
   "outputs": [],
   "source": [
    "import json\n",
    "import pandas as pd\n",
    "\n",
    "import os\n",
    "\n",
    "from datetime import datetime, timezone\n",
    "\n",
    "from pprint import pprint\n",
    "\n",
    "from splinter import Browser\n",
    "import re\n",
    "import time\n"
   ]
  },
  {
   "cell_type": "code",
   "execution_count": 4,
   "metadata": {},
   "outputs": [],
   "source": [
    "# Initialize an empty list to hold dataframes\n",
    "dataframes = []\n",
    "directory = \"Resources/turfs\"\n"
   ]
  },
  {
   "cell_type": "markdown",
   "metadata": {},
   "source": [
    "## retrieve data from csv files\n",
    "csv files stored in 1 folder\n",
    "the files will be merged in 1 dataframe\n",
    "loop through the DF to retrieve the coordinates of each place"
   ]
  },
  {
   "cell_type": "code",
   "execution_count": null,
   "metadata": {},
   "outputs": [],
   "source": [
    "# Merge files in 1 DF\n",
    "\n",
    "# Loop through all files in the directory\n",
    "for filename in os.listdir(directory):\n",
    "    if filename.endswith(\".csv\"):\n",
    "        file_path = os.path.join(directory, filename)\n",
    "        # Read each CSV file into a dataframe\n",
    "        df = pd.read_csv(file_path)\n",
    "        # Append the dataframe to the list\n",
    "        dataframes.append(df)\n",
    "\n",
    "# Concatenate all dataframes into a single dataframe\n",
    "merged_df = pd.concat(dataframes, ignore_index=True)\n",
    "\n",
    "# Write the merged dataframe to a new CSV file\n",
    "merged_df.to_csv('google_maps_ merged_file.csv', index=False)"
   ]
  },
  {
   "cell_type": "code",
   "execution_count": 7,
   "metadata": {},
   "outputs": [
    {
     "data": {
      "text/plain": [
       "(75, 4)"
      ]
     },
     "execution_count": 7,
     "metadata": {},
     "output_type": "execute_result"
    }
   ],
   "source": [
    "merged_df.shape"
   ]
  },
  {
   "cell_type": "code",
   "execution_count": null,
   "metadata": {},
   "outputs": [
    {
     "name": "stderr",
     "output_type": "stream",
     "text": [
      "C:\\Users\\nazim\\AppData\\Local\\Temp\\ipykernel_14240\\3101088418.py:26: FutureWarning: Series.__getitem__ treating keys as positions is deprecated. In a future version, integer keys will always be treated as labels (consistent with DataFrame behavior). To access a value by position, use `ser.iloc[pos]`\n",
      "  url = row[2]  # Assuming the URL is in the 3rd column\n"
     ]
    },
    {
     "name": "stdout",
     "output_type": "stream",
     "text": [
      "Coordinates extracted and saved to file_with_coordinates.csv\n"
     ]
    }
   ],
   "source": [
    "# loop through the DF and retrieve the coordinates (can take 8m s for 74 places)\n",
    "\n",
    "# Read CSV file (replace 'file.csv' with your actual file path)\n",
    "df = pd.read_csv('google_maps_ merged_file.csv')\n",
    "\n",
    "# Initialize the browser\n",
    "browser = Browser('chrome')\n",
    "\n",
    "# Define a function to extract coordinates from Google Maps URL\n",
    "def get_coordinates(url):\n",
    "    try:\n",
    "        browser.visit(url)\n",
    "        time.sleep(5)  # Give the page time to load\n",
    "        current_url = browser.url\n",
    "        match = re.search(r'@([0-9.-]+),([0-9.-]+)', current_url)\n",
    "        if match:\n",
    "            lat, lon = match.groups()\n",
    "            return lat, lon\n",
    "    except Exception as e:\n",
    "        print(f\"Failed to retrieve coordinates for {url}: {e}\")\n",
    "    return None, None\n",
    "\n",
    "# Loop through each row and extract coordinates\n",
    "df['lat'] = None\n",
    "df['lon'] = None\n",
    "\n",
    "for index, row in df.iterrows():\n",
    "    url = row[2]  # Assuming the URL is in the 3rd column\n",
    "    lat, lon = get_coordinates(url)\n",
    "    df.at[index, 'lat'] = lat\n",
    "    df.at[index, 'lon'] = lon\n",
    "\n",
    "# Close the browser\n",
    "browser.quit()\n",
    "\n",
    "# Save the updated dataframe to a new CSV file\n",
    "df.to_csv('signs_with_coordinates.csv', index=False)\n",
    "print(\"Coordinates extracted and saved to file_with_coordinates.csv\")\n"
   ]
  }
 ],
 "metadata": {
  "kernelspec": {
   "display_name": "base",
   "language": "python",
   "name": "python3"
  },
  "language_info": {
   "codemirror_mode": {
    "name": "ipython",
    "version": 3
   },
   "file_extension": ".py",
   "mimetype": "text/x-python",
   "name": "python",
   "nbconvert_exporter": "python",
   "pygments_lexer": "ipython3",
   "version": "3.12.3"
  }
 },
 "nbformat": 4,
 "nbformat_minor": 2
}
